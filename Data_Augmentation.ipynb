{
  "nbformat": 4,
  "nbformat_minor": 0,
  "metadata": {
    "colab": {
      "name": "Data Augmentation.ipynb",
      "provenance": [],
      "collapsed_sections": [],
      "include_colab_link": true
    },
    "kernelspec": {
      "display_name": "Python 3",
      "name": "python3"
    }
  },
  "cells": [
    {
      "cell_type": "markdown",
      "metadata": {
        "id": "view-in-github",
        "colab_type": "text"
      },
      "source": [
        "<a href=\"https://colab.research.google.com/github/abdellahi-brahim/data-augmentation/blob/main/Data_Augmentation.ipynb\" target=\"_parent\"><img src=\"https://colab.research.google.com/assets/colab-badge.svg\" alt=\"Open In Colab\"/></a>"
      ]
    },
    {
      "cell_type": "markdown",
      "metadata": {
        "id": "E-YggCEsv5y1"
      },
      "source": [
        "# Conectar ao armazenamento do Google Drive"
      ]
    },
    {
      "cell_type": "code",
      "metadata": {
        "colab": {
          "base_uri": "https://localhost:8080/"
        },
        "id": "l_bYHTdHLTjK",
        "outputId": "a754223b-ddb9-4063-b5fe-f800c83c9617"
      },
      "source": [
        "try:\n",
        "    from google.colab import drive\n",
        "    drive.mount('/content/drive', force_remount=True)\n",
        "    print(\"Note: using Google CoLab\")\n",
        "except:\n",
        "    print(\"Note: not using Google CoLab\")"
      ],
      "execution_count": 1,
      "outputs": [
        {
          "output_type": "stream",
          "text": [
            "Mounted at /content/drive\n",
            "Note: using Google CoLab\n"
          ],
          "name": "stdout"
        }
      ]
    },
    {
      "cell_type": "markdown",
      "metadata": {
        "id": "_iY_JykjvMCL"
      },
      "source": [
        "# Clone repo to drive storage"
      ]
    },
    {
      "cell_type": "code",
      "metadata": {
        "colab": {
          "base_uri": "https://localhost:8080/"
        },
        "id": "p9Gp__HsHTXc",
        "outputId": "165bfbea-7151-4dca-86ac-5b6de6828474"
      },
      "source": [
        "import os\n",
        "\n",
        "if os.path.isdir(\"/content/drive/My Drive/data-augmentation\"):\n",
        "    %cd \"/content/drive/My Drive/data-augmentation\"\n",
        "else:\n",
        "    #install script\n",
        "    %cd \"/content/drive/My Drive/\"\n",
        "    !git clone https://github.com/abdellahi-brahim/data-augmentation\n",
        "    %cd data-augmentation"
      ],
      "execution_count": 2,
      "outputs": [
        {
          "output_type": "stream",
          "text": [
            "/content/drive/My Drive/data-augmentation\n"
          ],
          "name": "stdout"
        }
      ]
    },
    {
      "cell_type": "markdown",
      "metadata": {
        "id": "64pgby_gUA9J"
      },
      "source": [
        "# Update Changes in Code"
      ]
    },
    {
      "cell_type": "code",
      "metadata": {
        "colab": {
          "base_uri": "https://localhost:8080/",
          "height": 894
        },
        "id": "w3BbqmZHHyh2",
        "outputId": "27294caa-f208-4c30-de82-360f851a4b76"
      },
      "source": [
        "%cd \"/content/drive/My Drive/data-augmentation\"\n",
        "!git config --global user.name \"abdellahi-brahim\"\n",
        "!git config --global user.email \"abdellahi@student.uc.pt\"\n",
        "!git fetch origin\n",
        "!git pull"
      ],
      "execution_count": 38,
      "outputs": [
        {
          "output_type": "stream",
          "text": [
            "ERROR:root:Internal Python error in the inspect module.\n",
            "Below is the traceback from this internal error.\n",
            "\n"
          ],
          "name": "stderr"
        },
        {
          "output_type": "stream",
          "text": [
            "Traceback (most recent call last):\n",
            "  File \"/usr/local/lib/python3.7/dist-packages/IPython/core/interactiveshell.py\", line 2882, in run_code\n",
            "    exec(code_obj, self.user_global_ns, self.user_ns)\n",
            "  File \"<ipython-input-38-2b1a1214423e>\", line 1, in <module>\n",
            "    get_ipython().magic('cd \"/content/drive/My Drive/data-augmentation\"')\n",
            "  File \"/usr/local/lib/python3.7/dist-packages/IPython/core/interactiveshell.py\", line 2160, in magic\n",
            "    return self.run_line_magic(magic_name, magic_arg_s)\n",
            "  File \"/usr/local/lib/python3.7/dist-packages/IPython/core/interactiveshell.py\", line 2081, in run_line_magic\n",
            "    result = fn(*args,**kwargs)\n",
            "  File \"<decorator-gen-84>\", line 2, in cd\n",
            "  File \"/usr/local/lib/python3.7/dist-packages/IPython/core/magic.py\", line 188, in <lambda>\n",
            "    call = lambda f, *a, **k: f(*a, **k)\n",
            "  File \"/usr/local/lib/python3.7/dist-packages/IPython/core/magics/osm.py\", line 288, in cd\n",
            "    oldcwd = py3compat.getcwd()\n",
            "OSError: [Errno 107] Transport endpoint is not connected\n",
            "\n",
            "During handling of the above exception, another exception occurred:\n",
            "\n",
            "Traceback (most recent call last):\n",
            "  File \"/usr/local/lib/python3.7/dist-packages/IPython/core/interactiveshell.py\", line 1823, in showtraceback\n",
            "    stb = value._render_traceback_()\n",
            "AttributeError: 'OSError' object has no attribute '_render_traceback_'\n",
            "\n",
            "During handling of the above exception, another exception occurred:\n",
            "\n",
            "Traceback (most recent call last):\n",
            "  File \"/usr/local/lib/python3.7/dist-packages/IPython/core/ultratb.py\", line 1132, in get_records\n",
            "    return _fixed_getinnerframes(etb, number_of_lines_of_context, tb_offset)\n",
            "  File \"/usr/local/lib/python3.7/dist-packages/IPython/core/ultratb.py\", line 313, in wrapped\n",
            "    return f(*args, **kwargs)\n",
            "  File \"/usr/local/lib/python3.7/dist-packages/IPython/core/ultratb.py\", line 358, in _fixed_getinnerframes\n",
            "    records = fix_frame_records_filenames(inspect.getinnerframes(etb, context))\n",
            "  File \"/usr/lib/python3.7/inspect.py\", line 1502, in getinnerframes\n",
            "    frameinfo = (tb.tb_frame,) + getframeinfo(tb, context)\n",
            "  File \"/usr/lib/python3.7/inspect.py\", line 1460, in getframeinfo\n",
            "    filename = getsourcefile(frame) or getfile(frame)\n",
            "  File \"/usr/lib/python3.7/inspect.py\", line 696, in getsourcefile\n",
            "    if getattr(getmodule(object, filename), '__loader__', None) is not None:\n",
            "  File \"/usr/lib/python3.7/inspect.py\", line 725, in getmodule\n",
            "    file = getabsfile(object, _filename)\n",
            "  File \"/usr/lib/python3.7/inspect.py\", line 709, in getabsfile\n",
            "    return os.path.normcase(os.path.abspath(_filename))\n",
            "  File \"/usr/lib/python3.7/posixpath.py\", line 383, in abspath\n",
            "    cwd = os.getcwd()\n",
            "OSError: [Errno 107] Transport endpoint is not connected\n"
          ],
          "name": "stdout"
        },
        {
          "output_type": "error",
          "ename": "OSError",
          "evalue": "ignored",
          "traceback": [
            "\u001b[0;31m---------------------------------------------------------------------------\u001b[0m"
          ]
        }
      ]
    },
    {
      "cell_type": "markdown",
      "metadata": {
        "id": "vqecPXfoITNh"
      },
      "source": [
        "# Update Paths to Store all Data in Drive"
      ]
    },
    {
      "cell_type": "code",
      "metadata": {
        "id": "pisuCd_ZBAqs",
        "colab": {
          "base_uri": "https://localhost:8080/"
        },
        "outputId": "81c73425-f28d-483f-bfe4-63ec36fdeb20"
      },
      "source": [
        "%%writefile filepath.py\n",
        "\n",
        "path = \"/content/drive/My Drive/dataset/\"\n",
        "\n",
        "image_path = path + \"images/\"\n",
        "xml_path = path + \"annots/\"\n",
        "aug_path = path + \"aug_img/\"\n",
        "aug_xml_path = path + \"aug_xml/\"\n",
        "fly_dataset = path + \"fly_dataset/\"\n",
        "empty_stick = path + \"empty/\"\n",
        "gan_path = path + \"gan/\""
      ],
      "execution_count": 26,
      "outputs": [
        {
          "output_type": "stream",
          "text": [
            "Overwriting filepath.py\n"
          ],
          "name": "stdout"
        }
      ]
    },
    {
      "cell_type": "markdown",
      "metadata": {
        "id": "M6mXGfgULl2O"
      },
      "source": [
        "# Perform Simple Augmentation on Sticky Traps"
      ]
    },
    {
      "cell_type": "code",
      "metadata": {
        "id": "oSf-CghaKJgX"
      },
      "source": [
        "!python simple_aug.py"
      ],
      "execution_count": 21,
      "outputs": []
    },
    {
      "cell_type": "markdown",
      "metadata": {
        "id": "6r_PbHd9SIVp"
      },
      "source": [
        "# Generate White Flies Dataset"
      ]
    },
    {
      "cell_type": "code",
      "metadata": {
        "id": "zAun_EZTSRFd"
      },
      "source": [
        "!python extract_flies.py"
      ],
      "execution_count": 29,
      "outputs": []
    },
    {
      "cell_type": "markdown",
      "metadata": {
        "id": "s4FldYUnT2D1"
      },
      "source": [
        "# Clean Dataset"
      ]
    },
    {
      "cell_type": "code",
      "metadata": {
        "id": "vflKbuHNUemI"
      },
      "source": [
        "!python clean_traps.py"
      ],
      "execution_count": 27,
      "outputs": []
    },
    {
      "cell_type": "markdown",
      "metadata": {
        "id": "JDCZK-SFXMae"
      },
      "source": [
        "# Shuffle flies"
      ]
    },
    {
      "cell_type": "code",
      "metadata": {
        "colab": {
          "base_uri": "https://localhost:8080/"
        },
        "id": "bkVmFj7NXT39",
        "outputId": "2b58b388-c0cd-4952-c201-330d21813f5c"
      },
      "source": [
        "!python shuffle_flies.py"
      ],
      "execution_count": 3,
      "outputs": [
        {
          "output_type": "stream",
          "text": [
            "Avaliable: 5750\n",
            "Avaliable: 5688\n",
            "Avaliable: 5650\n",
            "Avaliable: 5648\n",
            "Avaliable: 5626\n",
            "Avaliable: 5608\n",
            "Avaliable: 5571\n",
            "Avaliable: 5467\n",
            "Avaliable: 5376\n",
            "Avaliable: 5313\n",
            "Avaliable: 5297\n",
            "Avaliable: 5285\n",
            "Avaliable: 5271\n",
            "Avaliable: 5243\n",
            "Avaliable: 5233\n",
            "Avaliable: 5192\n",
            "Avaliable: 5172\n",
            "Avaliable: 5149\n",
            "Avaliable: 5119\n",
            "Avaliable: 5096\n",
            "Avaliable: 5094\n",
            "Avaliable: 5061\n",
            "Avaliable: 5031\n",
            "Avaliable: 4979\n",
            "Avaliable: 4885\n",
            "Avaliable: 4851\n",
            "Avaliable: 4800\n",
            "Avaliable: 4763\n",
            "Avaliable: 4725\n",
            "Avaliable: 4679\n",
            "Avaliable: 4678\n",
            "Avaliable: 4677\n",
            "Avaliable: 4599\n",
            "Avaliable: 4528\n",
            "Avaliable: 4405\n",
            "Avaliable: 4355\n",
            "Avaliable: 4304\n",
            "Avaliable: 4245\n",
            "Avaliable: 4175\n",
            "Avaliable: 4119\n",
            "Avaliable: 4086\n",
            "Avaliable: 4058\n",
            "Avaliable: 4037\n",
            "Avaliable: 4001\n",
            "Avaliable: 3827\n",
            "Avaliable: 3822\n",
            "Avaliable: 3821\n",
            "Avaliable: 3799\n",
            "Avaliable: 3790\n",
            "Avaliable: 3782\n",
            "Avaliable: 3774\n",
            "Avaliable: 3749\n",
            "Avaliable: 3744\n",
            "Avaliable: 3737\n",
            "Avaliable: 3732\n",
            "Avaliable: 3714\n",
            "Avaliable: 3709\n",
            "Avaliable: 3704\n",
            "Avaliable: 3684\n",
            "Avaliable: 3680\n",
            "Avaliable: 3666\n",
            "Avaliable: 3662\n",
            "Avaliable: 3657\n",
            "Avaliable: 3656\n",
            "Avaliable: 3640\n",
            "Avaliable: 3639\n",
            "Avaliable: 3594\n",
            "Avaliable: 3592\n",
            "Avaliable: 3590\n",
            "Avaliable: 3588\n",
            "Avaliable: 3572\n",
            "Avaliable: 3543\n",
            "Avaliable: 3535\n",
            "Avaliable: 3528\n",
            "Avaliable: 3494\n",
            "Avaliable: 3492\n",
            "Avaliable: 3490\n",
            "Avaliable: 3444\n",
            "Avaliable: 3403\n",
            "Avaliable: 3388\n",
            "Avaliable: 3386\n",
            "Avaliable: 3375\n",
            "Avaliable: 3370\n",
            "Avaliable: 3367\n",
            "Avaliable: 3297\n",
            "Avaliable: 3172\n",
            "Avaliable: 3008\n",
            "Avaliable: 2937\n",
            "Avaliable: 2707\n",
            "Avaliable: 2695\n",
            "Avaliable: 2578\n",
            "Avaliable: 2512\n",
            "Avaliable: 2484\n",
            "Avaliable: 2439\n",
            "Avaliable: 2387\n",
            "Avaliable: 2309\n",
            "Avaliable: 2308\n",
            "Avaliable: 2279\n",
            "Avaliable: 2255\n",
            "Avaliable: 2243\n",
            "Avaliable: 2145\n",
            "Avaliable: 2136\n",
            "Avaliable: 2106\n",
            "Avaliable: 2024\n",
            "Avaliable: 2016\n",
            "Avaliable: 1950\n",
            "Avaliable: 1908\n",
            "Avaliable: 1887\n",
            "Avaliable: 1879\n",
            "Avaliable: 1874\n",
            "Avaliable: 1839\n",
            "Avaliable: 1836\n",
            "Avaliable: 1811\n",
            "Avaliable: 1764\n",
            "Avaliable: 1750\n",
            "Avaliable: 1723\n",
            "Avaliable: 1710\n",
            "Avaliable: 1690\n",
            "Avaliable: 1670\n",
            "Avaliable: 1640\n",
            "Avaliable: 1607\n",
            "Avaliable: 1531\n",
            "Avaliable: 1399\n",
            "Avaliable: 1356\n",
            "Avaliable: 1283\n",
            "Avaliable: 1226\n",
            "Avaliable: 1156\n",
            "Avaliable: 1129\n",
            "Avaliable: 1110\n",
            "Avaliable: 1081\n",
            "Avaliable: 1024\n",
            "Avaliable: 995\n",
            "Avaliable: 993\n",
            "Avaliable: 988\n",
            "Avaliable: 973\n",
            "Avaliable: 961\n",
            "Avaliable: 958\n",
            "Avaliable: 941\n",
            "Avaliable: 934\n",
            "Avaliable: 897\n",
            "Avaliable: 837\n",
            "Avaliable: 816\n",
            "Avaliable: 793\n",
            "Avaliable: 765\n",
            "Avaliable: 746\n",
            "Avaliable: 670\n",
            "Avaliable: 646\n",
            "Avaliable: 571\n",
            "Avaliable: 544\n",
            "Avaliable: 531\n",
            "Avaliable: 521\n",
            "Avaliable: 500\n",
            "Avaliable: 460\n",
            "Avaliable: 436\n",
            "Avaliable: 430\n",
            "Avaliable: 412\n",
            "Avaliable: 396\n",
            "Avaliable: 378\n",
            "Avaliable: 363\n",
            "Avaliable: 341\n",
            "Avaliable: 299\n",
            "Avaliable: 276\n",
            "Avaliable: 268\n",
            "Avaliable: 255\n",
            "Avaliable: 244\n",
            "Avaliable: 205\n",
            "Avaliable: 185\n",
            "Avaliable: 135\n",
            "Avaliable: 118\n",
            "Avaliable: 106\n",
            "Avaliable: 87\n",
            "Avaliable: 51\n",
            "Avaliable: 37\n"
          ],
          "name": "stdout"
        }
      ]
    },
    {
      "cell_type": "markdown",
      "metadata": {
        "id": "22tmUl5fquz0"
      },
      "source": [
        "# Shuffle flies with gan's"
      ]
    },
    {
      "cell_type": "code",
      "metadata": {
        "colab": {
          "base_uri": "https://localhost:8080/"
        },
        "id": "wniLSFdyq7L3",
        "outputId": "b709ff5b-991b-4318-e9cf-433f9cfedf38"
      },
      "source": [
        "!python fly2gan.py"
      ],
      "execution_count": null,
      "outputs": [
        {
          "output_type": "stream",
          "text": [
            "Avaliable: 4983\n",
            "Avaliable: 4921\n",
            "Avaliable: 4883\n",
            "Avaliable: 4881\n"
          ],
          "name": "stdout"
        }
      ]
    }
  ]
}