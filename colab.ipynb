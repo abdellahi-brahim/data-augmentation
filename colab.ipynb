{
  "nbformat": 4,
  "nbformat_minor": 0,
  "metadata": {
    "colab": {
      "name": "Data Augmentation.ipynb",
      "provenance": [],
      "collapsed_sections": [],
      "include_colab_link": true
    },
    "kernelspec": {
      "display_name": "Python 3",
      "name": "python3"
    }
  },
  "cells": [
    {
      "cell_type": "markdown",
      "metadata": {
        "id": "view-in-github",
        "colab_type": "text"
      },
      "source": [
        "<a href=\"https://colab.research.google.com/github/abdellahi-brahim/data-augmentation/blob/main/colab.ipynb\" target=\"_parent\"><img src=\"https://colab.research.google.com/assets/colab-badge.svg\" alt=\"Open In Colab\"/></a>"
      ]
    },
    {
      "cell_type": "markdown",
      "metadata": {
        "id": "E-YggCEsv5y1"
      },
      "source": [
        "# Conectar ao armazenamento do Google Drive"
      ]
    },
    {
      "cell_type": "code",
      "metadata": {
        "colab": {
          "base_uri": "https://localhost:8080/"
        },
        "id": "l_bYHTdHLTjK",
        "outputId": "a754223b-ddb9-4063-b5fe-f800c83c9617"
      },
      "source": [
        "try:\n",
        "    from google.colab import drive\n",
        "    drive.mount('/content/drive', force_remount=True)\n",
        "    print(\"Note: using Google CoLab\")\n",
        "except:\n",
        "    print(\"Note: not using Google CoLab\")"
      ],
      "execution_count": 1,
      "outputs": [
        {
          "output_type": "stream",
          "text": [
            "Mounted at /content/drive\n",
            "Note: using Google CoLab\n"
          ],
          "name": "stdout"
        }
      ]
    },
    {
      "cell_type": "markdown",
      "metadata": {
        "id": "_iY_JykjvMCL"
      },
      "source": [
        "# Clonar o repositório para o armazenamento do Drive"
      ]
    },
    {
      "cell_type": "code",
      "metadata": {
        "colab": {
          "base_uri": "https://localhost:8080/"
        },
        "id": "p9Gp__HsHTXc",
        "outputId": "165bfbea-7151-4dca-86ac-5b6de6828474"
      },
      "source": [
        "import os\n",
        "\n",
        "if os.path.isdir(\"/content/drive/My Drive/data-augmentation\"):\n",
        "    %cd \"/content/drive/My Drive/data-augmentation\"\n",
        "else:\n",
        "    #install script\n",
        "    %cd \"/content/drive/My Drive/\"\n",
        "    !git clone https://github.com/abdellahi-brahim/data-augmentation\n",
        "    %cd data-augmentation"
      ],
      "execution_count": 2,
      "outputs": [
        {
          "output_type": "stream",
          "text": [
            "/content/drive/My Drive/data-augmentation\n"
          ],
          "name": "stdout"
        }
      ]
    },
    {
      "cell_type": "markdown",
      "metadata": {
        "id": "64pgby_gUA9J"
      },
      "source": [
        "# Atualizar mudanças no código"
      ]
    },
    {
      "cell_type": "code",
      "metadata": {
        "id": "w3BbqmZHHyh2"
      },
      "source": [
        "%cd \"/content/drive/My Drive/data-augmentation\"\n",
        "!git config --global user.name \"user\"\n",
        "!git config --global user.email \"email@pest.com\"\n",
        "!git fetch origin\n",
        "!git pull"
      ],
      "execution_count": null,
      "outputs": []
    },
    {
      "cell_type": "markdown",
      "metadata": {
        "id": "vqecPXfoITNh"
      },
      "source": [
        "# Atualizar os caminhos para a drive"
      ]
    },
    {
      "cell_type": "code",
      "metadata": {
        "id": "pisuCd_ZBAqs",
        "colab": {
          "base_uri": "https://localhost:8080/"
        },
        "outputId": "81c73425-f28d-483f-bfe4-63ec36fdeb20"
      },
      "source": [
        "%%writefile filepath.py\n",
        "\n",
        "path = \"/content/drive/My Drive/dataset/\"\n",
        "\n",
        "image_path = path + \"images/\"\n",
        "xml_path = path + \"annots/\"\n",
        "aug_path = path + \"aug_img/\"\n",
        "aug_xml_path = path + \"aug_xml/\"\n",
        "fly_dataset = path + \"fly_dataset/\"\n",
        "empty_stick = path + \"empty/\"\n",
        "gan_path = path + \"gan/\""
      ],
      "execution_count": 26,
      "outputs": [
        {
          "output_type": "stream",
          "text": [
            "Overwriting filepath.py\n"
          ],
          "name": "stdout"
        }
      ]
    },
    {
      "cell_type": "markdown",
      "metadata": {
        "id": "M6mXGfgULl2O"
      },
      "source": [
        "# Realizar transformações de dados simples nas placas\n",
        "\n",
        "\n",
        "1.   Inversão horizontal\n",
        "2.   Inversão vertical\n",
        "3.   Rotação de 90º\n",
        "4.   Rotação de 180º\n",
        "5.   Rotação de 270º\n",
        "\n"
      ]
    },
    {
      "cell_type": "code",
      "metadata": {
        "id": "oSf-CghaKJgX"
      },
      "source": [
        "!python simple_aug.py"
      ],
      "execution_count": 21,
      "outputs": []
    },
    {
      "cell_type": "markdown",
      "metadata": {
        "id": "6r_PbHd9SIVp"
      },
      "source": [
        "# Gerar um dataset de moscas brancas\n",
        "\n",
        "Retirar as moscas brancas das armadilhas com recurso às anotações "
      ]
    },
    {
      "cell_type": "code",
      "metadata": {
        "id": "zAun_EZTSRFd"
      },
      "source": [
        "!python extract_flies.py"
      ],
      "execution_count": 29,
      "outputs": []
    },
    {
      "cell_type": "markdown",
      "metadata": {
        "id": "s4FldYUnT2D1"
      },
      "source": [
        "# Remover moscas brancas das sticky traps\n",
        "\n",
        "Remover as moscas brancas do dataset resultando em armadilhas sem estas"
      ]
    },
    {
      "cell_type": "code",
      "metadata": {
        "id": "vflKbuHNUemI"
      },
      "source": [
        "!python clean_traps.py"
      ],
      "execution_count": 27,
      "outputs": []
    },
    {
      "cell_type": "markdown",
      "metadata": {
        "id": "JDCZK-SFXMae"
      },
      "source": [
        "# Shuffle flies\n",
        "\n",
        "Substituir as moscas umas pelas outras"
      ]
    },
    {
      "cell_type": "code",
      "metadata": {
        "id": "bkVmFj7NXT39"
      },
      "source": [
        "!python shuffle_flies.py"
      ],
      "execution_count": null,
      "outputs": []
    },
    {
      "cell_type": "markdown",
      "metadata": {
        "id": "22tmUl5fquz0"
      },
      "source": [
        "# Substituir moscas por outras geradas pela GAN\n",
        "\n"
      ]
    },
    {
      "cell_type": "code",
      "metadata": {
        "id": "wniLSFdyq7L3"
      },
      "source": [
        "!python fly2gan.py"
      ],
      "execution_count": null,
      "outputs": []
    }
  ]
}